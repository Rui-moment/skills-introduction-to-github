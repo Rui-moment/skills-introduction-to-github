{
  "nbformat": 4,
  "nbformat_minor": 0,
  "metadata": {
    "colab": {
      "provenance": [],
      "authorship_tag": "ABX9TyMi4YEDtHGNVWTxCSZ197T2",
      "include_colab_link": true
    },
    "kernelspec": {
      "name": "python3",
      "display_name": "Python 3"
    },
    "language_info": {
      "name": "python"
    }
  },
  "cells": [
    {
      "cell_type": "markdown",
      "metadata": {
        "id": "view-in-github",
        "colab_type": "text"
      },
      "source": [
        "<a href=\"https://colab.research.google.com/github/Rui-moment/skills-introduction-to-github/blob/main/7_2.ipynb\" target=\"_parent\"><img src=\"https://colab.research.google.com/assets/colab-badge.svg\" alt=\"Open In Colab\"/></a>"
      ]
    },
    {
      "cell_type": "code",
      "execution_count": null,
      "metadata": {
        "colab": {
          "base_uri": "https://localhost:8080/"
        },
        "id": "43MDe0XliDTq",
        "outputId": "4a753174-b5da-40ce-e90e-71b0fbe7f617"
      },
      "outputs": [
        {
          "output_type": "stream",
          "name": "stdout",
          "text": [
            "円周率=3.084000\n"
          ]
        }
      ],
      "source": [
        "###モンテカルロ法\n",
        "\n",
        "import random\n",
        "N = 2000\n",
        "a = 0\n",
        "for i in range(N):\n",
        "    x = random.random()\n",
        "    y = random.random()\n",
        "    if x*x + y*y < 1:\n",
        "        a += 1\n",
        "pai = 4.0 * a / N\n",
        "print(f'円周率={pai:f}')"
      ]
    },
    {
      "cell_type": "code",
      "source": [
        "###面積\n",
        "\n",
        "import random\n",
        "\n",
        "N = 1000\n",
        "a = 0\n",
        "for i in range(N):\n",
        "    x = 2 * random.random()\n",
        "    y = random.random()\n",
        "    if x * x /4 + y * y <= 1:\n",
        "        a += 1\n",
        "\n",
        "s = 4 * 2 * a / N\n",
        "print(f'楕円の面積={s:.5f}')"
      ],
      "metadata": {
        "colab": {
          "base_uri": "https://localhost:8080/"
        },
        "id": "OMxg5zlljWy-",
        "outputId": "22b9aa40-82c2-4541-d1b0-f9e61a380c74"
      },
      "execution_count": null,
      "outputs": [
        {
          "output_type": "stream",
          "name": "stdout",
          "text": [
            "楕円の面積=6.28000\n"
          ]
        }
      ]
    },
    {
      "cell_type": "code",
      "source": [
        "###素数\n",
        "\n",
        "import math\n",
        "date = [2, 5, 21, 991,2027]\n",
        "for n in date:\n",
        "    if n >= 2:\n",
        "        Limit = int(math.sqrt(n))\n",
        "        for i in range(Limit, 0 ,-1):\n",
        "            if n % i == 0:\n",
        "                break\n",
        "        if i == 1:\n",
        "            print(f'{n:d}は素数')\n",
        "        else:\n",
        "            print(f'{n:d}は素数ではない')"
      ],
      "metadata": {
        "colab": {
          "base_uri": "https://localhost:8080/"
        },
        "id": "yaWFaMKHk2S9",
        "outputId": "60f64fc8-f5e1-49f9-fd2c-26a61e8fba17"
      },
      "execution_count": null,
      "outputs": [
        {
          "output_type": "stream",
          "name": "stdout",
          "text": [
            "2は素数\n",
            "5は素数\n",
            "21は素数ではない\n",
            "991は素数\n",
            "2027は素数\n"
          ]
        }
      ]
    },
    {
      "cell_type": "code",
      "source": [
        "import math\n",
        "N = 1000\n",
        "prime=[1 for i in range(N + 1)]\n",
        "Limit = int(math.sqrt(N))\n",
        "for i in range(2, Limit + 1):\n",
        "    if prime[i] == 1:\n",
        "        for j in range(i * 2, N + 1, i):\n",
        "            prime[j] = 0\n",
        "count = 1\n",
        "for i in range(2, N + 1):\n",
        "    if prime[i] == 1:\n",
        "        print(f'{i:4d}', end ='')\n",
        "        if count % 16 == 0:\n",
        "            print()\n",
        "        count += 1"
      ],
      "metadata": {
        "colab": {
          "base_uri": "https://localhost:8080/"
        },
        "id": "kyYwtj9unkJC",
        "outputId": "fef1b69c-42d4-41e1-ca52-0bf42564613d"
      },
      "execution_count": null,
      "outputs": [
        {
          "output_type": "stream",
          "name": "stdout",
          "text": [
            "   2   3   5   7  11  13  17  19  23  29  31  37  41  43  47  53\n",
            "  59  61  67  71  73  79  83  89  97 101 103 107 109 113 127 131\n",
            " 137 139 149 151 157 163 167 173 179 181 191 193 197 199 211 223\n",
            " 227 229 233 239 241 251 257 263 269 271 277 281 283 293 307 311\n",
            " 313 317 331 337 347 349 353 359 367 373 379 383 389 397 401 409\n",
            " 419 421 431 433 439 443 449 457 461 463 467 479 487 491 499 503\n",
            " 509 521 523 541 547 557 563 569 571 577 587 593 599 601 607 613\n",
            " 617 619 631 641 643 647 653 659 661 673 677 683 691 701 709 719\n",
            " 727 733 739 743 751 757 761 769 773 787 797 809 811 821 823 827\n",
            " 829 839 853 857 859 863 877 881 883 887 907 911 919 929 937 941\n",
            " 947 953 967 971 977 983 991 997"
          ]
        }
      ]
    },
    {
      "cell_type": "code",
      "source": [
        "###テイラー展開\n",
        "import math\n",
        "\n",
        "def myexp(x):\n",
        "    EPS = 1e-08\n",
        "    s, e = 1.0, 1.0\n",
        "    for k in range(1, 201):\n",
        "        d = s\n",
        "        e = e * x / k\n",
        "        s = s + e\n",
        "        if abs(s - d) < EPS * abs (s):\n",
        "            return s\n",
        "\n",
        "        return s\n",
        "\n",
        "\n",
        "print('.   x.   myexp(x)   math.exp(x)')\n",
        "for x in range(0, 41, 10):\n",
        "    print(f'{x:5.1f} {myexp(x):14.6g} {math.exp(x):14.6g}')"
      ],
      "metadata": {
        "colab": {
          "base_uri": "https://localhost:8080/"
        },
        "id": "yIaWdN1lpuTh",
        "outputId": "697fac4f-9036-4a3a-b9bf-d04525702c07"
      },
      "execution_count": null,
      "outputs": [
        {
          "output_type": "stream",
          "name": "stdout",
          "text": [
            ".   x.   myexp(x)   math.exp(x)\n",
            "  0.0              1              1\n",
            " 10.0             11        22026.5\n",
            " 20.0             21    4.85165e+08\n",
            " 30.0             31    1.06865e+13\n",
            " 40.0             41    2.35385e+17\n"
          ]
        }
      ]
    },
    {
      "cell_type": "code",
      "source": [
        "### cos(x)\n",
        "\n",
        "import math\n",
        "\n",
        "def mycos(x):\n",
        "    EPS = 1e-08\n",
        "    s, e = 1.0, 1.0\n",
        "    x %= (2 * math.pi)\n",
        "    for k in range(1, 201, 2):\n",
        "        d = s\n",
        "        e = -e * x * x / k / ( k + 1)\n",
        "        s += e\n",
        "        if abs( s - d) < EPS * abs(d):\n",
        "            return s\n",
        "    return 9999.0\n",
        "\n",
        "print('.   x,    mycos(x),    cos(x)')\n",
        "for x in range(0, 181, 10):\n",
        "    rdx = math.radians(x)\n",
        "    print(f'{x:5.1f} {mycos(rdx):14.6f} {math.cos(rdx):14.6f}')"
      ],
      "metadata": {
        "colab": {
          "base_uri": "https://localhost:8080/"
        },
        "id": "TGNVxo0f-KSN",
        "outputId": "f7a70f6b-a45e-4962-92d4-bd7b7aca7d01"
      },
      "execution_count": null,
      "outputs": [
        {
          "output_type": "stream",
          "name": "stdout",
          "text": [
            ".   x,    mycos(x),    cos(x)\n",
            "  0.0       1.000000       1.000000\n",
            " 10.0       0.984808       0.984808\n",
            " 20.0       0.939693       0.939693\n",
            " 30.0       0.866025       0.866025\n",
            " 40.0       0.766044       0.766044\n",
            " 50.0       0.642788       0.642788\n",
            " 60.0       0.500000       0.500000\n",
            " 70.0       0.342020       0.342020\n",
            " 80.0       0.173648       0.173648\n",
            " 90.0       0.000000       0.000000\n",
            "100.0      -0.173648      -0.173648\n",
            "110.0      -0.342020      -0.342020\n",
            "120.0      -0.500000      -0.500000\n",
            "130.0      -0.642788      -0.642788\n",
            "140.0      -0.766044      -0.766044\n",
            "150.0      -0.866025      -0.866025\n",
            "160.0      -0.939693      -0.939693\n",
            "170.0      -0.984808      -0.984808\n",
            "180.0      -1.000000      -1.000000\n"
          ]
        }
      ]
    },
    {
      "cell_type": "code",
      "source": [
        "### sort,直接選択法\n",
        "\n",
        "a = [80, 50, 56, 30, 51, 70]\n",
        "N = len(a)\n",
        "for i in range(N -1):\n",
        "    Min = a[i]\n",
        "    s = i\n",
        "    for j in range(i + 1, N):\n",
        "        if a[j] < Min:\n",
        "            Min = a[j]\n",
        "            s = j\n",
        "    a[i], a[s] = a[s], a[i]\n",
        "\n",
        "print(a)\n",
        "\n",
        "###バブルソート\n",
        "b = [80, 50, 56, 30, 51, 70]\n",
        "N = len(b)\n",
        "for i in range(N - 1):\n",
        "    for j in range(N -1, i, -1):\n",
        "        if b[j] < b[j - 1]:\n",
        "            b[j], b[j -1] = b[j -1], b[j]\n",
        "print(b)\n"
      ],
      "metadata": {
        "id": "lUZb4Zn1DT7_",
        "colab": {
          "base_uri": "https://localhost:8080/"
        },
        "outputId": "49cfb533-9219-4eea-9a81-1bc18f754f48"
      },
      "execution_count": null,
      "outputs": [
        {
          "output_type": "stream",
          "name": "stdout",
          "text": [
            "[30, 50, 51, 56, 70, 80]\n",
            "[30, 50, 51, 56, 70, 80]\n"
          ]
        }
      ]
    },
    {
      "cell_type": "code",
      "source": [
        "class Person:\n",
        "    def __init__(self, name, yomi):\n",
        "        self.name = name\n",
        "        self.yomi = yomi\n",
        "\n",
        "a = [Person('河西', 'かさい'), Person('綾瀬', 'あやせ'), Person('山田', 'やまだ'), Person('佐藤', 'さとう')]\n",
        "\n",
        "N = len(a)\n",
        "for i in range(N - 1, 0, -1):\n",
        "    for j in range(0, i):\n",
        "        if a[j].yomi > a[j + 1].yomi:\n",
        "            a[j], a[j + 1] = a[j + 1], a[j]\n",
        "\n",
        "for i in range(N):\n",
        "    print(f'{a[i].name:s}:{a[i].yomi:s}')"
      ],
      "metadata": {
        "colab": {
          "base_uri": "https://localhost:8080/"
        },
        "id": "lKfTdT7FkOwP",
        "outputId": "c2de5285-5ba8-423b-d955-bfb7850c3540"
      },
      "execution_count": null,
      "outputs": [
        {
          "output_type": "stream",
          "name": "stdout",
          "text": [
            "綾瀬:あやせ\n",
            "河西:かさい\n",
            "佐藤:さとう\n",
            "山田:やまだ\n"
          ]
        }
      ]
    },
    {
      "cell_type": "code",
      "source": [
        "# 線形探索（linear search）\n",
        "\n",
        "kana = ['たい', 'まぐろ', 'くじら', 'さば', 'かつお', 'さけ']\n",
        "fish = ['鯛', '鮪', '鯨', '鯖', '鰹', '鮭']\n",
        "\n",
        "N = len(kana)\n",
        "\n",
        "while (key := input('検索する言葉？')) !='/':\n",
        "    i = 0\n",
        "    while i < N and key != kana[i]:\n",
        "        i += 1\n",
        "    if i < N:\n",
        "        print(f'{key:s}:{fish[i]:s}')\n",
        "    else:\n",
        "        print('none')\n"
      ],
      "metadata": {
        "colab": {
          "base_uri": "https://localhost:8080/"
        },
        "id": "FSHhbbT8qGvA",
        "outputId": "f9a5f4ae-0718-477f-9118-f3f037437f60"
      },
      "execution_count": null,
      "outputs": [
        {
          "name": "stdout",
          "output_type": "stream",
          "text": [
            "検索する言葉？たい\n",
            "たい:鯛\n",
            "検索する言葉？こい\n",
            "none\n",
            "検索する言葉？\n",
            "none\n",
            "検索する言葉？まぐろ\n",
            "まぐろ:鮪\n",
            "検索する言葉？\n",
            "none\n",
            "検索する言葉？？\n",
            "none\n",
            "検索する言葉？/\n"
          ]
        }
      ]
    },
    {
      "cell_type": "code",
      "source": [
        "###二部探索（binary search）\n",
        "\n",
        "kana = ['いわい', 'うえの', 'かわにし', 'くぼいけ', 'こいけ',\n",
        "        'すずき', 'たなか', 'はま', 'やじま']\n",
        "\n",
        "name = ['岩井', '上野', '河西', '窪池', '小池',\n",
        "        '鈴木', '田中', '浜', '矢島']\n",
        "\n",
        "while (key := input('検索する言葉？')) != '/':\n",
        "    low = 0\n",
        "    high = len(kana) - 1\n",
        "    flag = 0\n",
        "    while low <= high:\n",
        "        mid = (low + high) // 2\n",
        "        if kana[mid] == key:\n",
        "            flag = 1\n",
        "            break\n",
        "        if kana[mid] <key:\n",
        "            low = mid + 1\n",
        "        else:\n",
        "            high = mid -1\n",
        "    if flag == 1:\n",
        "        print(name[mid])\n",
        "    else:\n",
        "        print('Who are you?')\n",
        "\n",
        "\n"
      ],
      "metadata": {
        "colab": {
          "base_uri": "https://localhost:8080/"
        },
        "id": "CJ68SH8Ls2JO",
        "outputId": "feb7b363-5fa2-44a9-c775-dc7c9bab93de"
      },
      "execution_count": null,
      "outputs": [
        {
          "name": "stdout",
          "output_type": "stream",
          "text": [
            "検索する言葉？はま\n",
            "浜\n",
            "検索する言葉？たなか\n",
            "田中\n",
            "検索する言葉？あんどう\n",
            "Who are you?\n",
            "検索する言葉？/\n"
          ]
        }
      ]
    },
    {
      "cell_type": "code",
      "source": [
        "###鶴亀算を解く\n",
        "\n",
        "low, high = 0, 100\n",
        "while low <= high:\n",
        "    kame = (low + high) // 2\n",
        "    legs = kame*4 + (100 - kame)*2\n",
        "    if legs == 274:\n",
        "        print(f'亀が{kame:d}鶴が{100 - kame:d}')\n",
        "        break\n",
        "    elif legs > 274:\n",
        "        high = kame - 1\n",
        "    else:\n",
        "        low = kame + 1\n",
        "\n",
        "###連立方程式を知らない小学生が解けるのはバイナリーサーチを使うから\n",
        "\n"
      ],
      "metadata": {
        "colab": {
          "base_uri": "https://localhost:8080/"
        },
        "id": "LxufQk213cNY",
        "outputId": "b2b43990-a773-4911-ae65-10f2522e15ac"
      },
      "execution_count": null,
      "outputs": [
        {
          "output_type": "stream",
          "name": "stdout",
          "text": [
            "亀が37鶴が63\n"
          ]
        }
      ]
    },
    {
      "cell_type": "code",
      "source": [
        "\n",
        "### 自己再編成探索\n",
        "\n",
        "def selforg(a):\n",
        "    for i in range(len(word)):\n",
        "        if a == word[i]:\n",
        "            del word [i]\n",
        "            word.insert(0, a)\n",
        "            break\n",
        "\n",
        "word = ['仕様', '使用', '私用', '枝葉', '子葉', '止揚']\n",
        "selforg('私用')\n",
        "print(word)\n",
        "\n",
        "selforg('枝葉')\n",
        "print(word)"
      ],
      "metadata": {
        "id": "C2aPm0F74tDD",
        "colab": {
          "base_uri": "https://localhost:8080/"
        },
        "outputId": "a9b4935e-8116-4429-d29b-1b5cf8a51a5a"
      },
      "execution_count": 3,
      "outputs": [
        {
          "output_type": "stream",
          "name": "stdout",
          "text": [
            "['私用', '仕様', '使用', '枝葉', '子葉', '止揚']\n",
            "['枝葉', '私用', '仕様', '使用', '子葉', '止揚']\n"
          ]
        }
      ]
    },
    {
      "cell_type": "code",
      "source": [
        "###ハッシュ\n",
        "class Person:\n",
        "    def __init__(self, name, tel):\n",
        "        self.name = name\n",
        "        self.tel = tel\n",
        "\n",
        "def hash(s):\n",
        "    n = len(s)\n",
        "    return ((ord(s[0]) - ord('A')\n",
        "            + (ord(s[n // 2 - 1]) - ord('A')) * 26\n",
        "             + (ord(s[n - 2]) - ord('A')) * 26 * 26) % ModSize)\n",
        "\n",
        "TableSize = 1000\n",
        "ModSize = 1000\n",
        "table = [Person('', '')for i in range(TableSize)]\n",
        "date = [Person('SATO', '03-111-1111'),\n",
        "        Person('TANAKA', '03-222-2222'),\n",
        "        Person('SUZUKI', '03-333-3333')]\n",
        "\n",
        "for i in range(0, len(date)):\n",
        "    n = hash(date[i].name)\n",
        "    table[n] = date[i]\n",
        "\n",
        "n = hash('SUZUKI')\n",
        "print(f'{n:d}:{table[n].name:s}:{table[n].tel:s}')\n",
        "\n",
        "n = hash('SATO')\n",
        "print(f'{n:d}:{table[n].name:s}:{table[n].tel:s}')"
      ],
      "metadata": {
        "colab": {
          "base_uri": "https://localhost:8080/"
        },
        "id": "9RfklQSJp7qr",
        "outputId": "5b0dd167-fd95-4748-cd4a-0515e3b9f73f"
      },
      "execution_count": 5,
      "outputs": [
        {
          "output_type": "stream",
          "name": "stdout",
          "text": [
            "428:SUZUKI:03-333-3333\n",
            "862:SATO:03-111-1111\n"
          ]
        }
      ]
    },
    {
      "cell_type": "code",
      "source": [],
      "metadata": {
        "id": "xRvXjwYYwW5w"
      },
      "execution_count": null,
      "outputs": []
    }
  ]
}
