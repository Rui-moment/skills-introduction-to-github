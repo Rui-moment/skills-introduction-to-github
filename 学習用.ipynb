{
  "nbformat": 4,
  "nbformat_minor": 0,
  "metadata": {
    "colab": {
      "provenance": [],
      "authorship_tag": "ABX9TyNmODHChsWbqRRiy2BU2Daw",
      "include_colab_link": true
    },
    "kernelspec": {
      "name": "python3",
      "display_name": "Python 3"
    },
    "language_info": {
      "name": "python"
    }
  },
  "cells": [
    {
      "cell_type": "markdown",
      "metadata": {
        "id": "view-in-github",
        "colab_type": "text"
      },
      "source": [
        "<a href=\"https://colab.research.google.com/github/Rui-moment/skills-introduction-to-github/blob/main/%E5%AD%A6%E7%BF%92%E7%94%A8.ipynb\" target=\"_parent\"><img src=\"https://colab.research.google.com/assets/colab-badge.svg\" alt=\"Open In Colab\"/></a>"
      ]
    },
    {
      "cell_type": "code",
      "source": [
        "print('　　夏')\n",
        "print('　兵曹')\n",
        "print('夢ども')\n",
        "print('のも')\n",
        "print('あが')\n"
      ],
      "metadata": {
        "colab": {
          "base_uri": "https://localhost:8080/"
        },
        "id": "DAPP8C1SQG_q",
        "outputId": "b6cd2deb-7712-4111-ad1f-e25211925a17"
      },
      "execution_count": null,
      "outputs": [
        {
          "output_type": "stream",
          "name": "stdout",
          "text": [
            "　　夏\n",
            "　兵曹\n",
            "夢ども\n",
            "のも\n",
            "あが\n"
          ]
        }
      ]
    },
    {
      "cell_type": "markdown",
      "source": [
        "# 新しいセクション"
      ],
      "metadata": {
        "id": "WcvFqhyjq9Xa"
      }
    },
    {
      "cell_type": "code",
      "source": [],
      "metadata": {
        "id": "Q3Xbm8CAp19F"
      },
      "execution_count": null,
      "outputs": []
    },
    {
      "cell_type": "code",
      "source": [],
      "metadata": {
        "id": "EMP5wmAL_G_U"
      },
      "execution_count": null,
      "outputs": []
    },
    {
      "cell_type": "code",
      "source": [
        " a = 20\n",
        " b = 10\n",
        " print(f'{a}+ {b}= {a + b}')\n",
        "\n",
        " print(1000000 * 1.01 ** 5)\n"
      ],
      "metadata": {
        "colab": {
          "base_uri": "https://localhost:8080/"
        },
        "id": "iRMjRMnrRSwI",
        "outputId": "e2b1a879-7a33-43f4-9793-bce68eae8e11"
      },
      "execution_count": null,
      "outputs": [
        {
          "output_type": "stream",
          "name": "stdout",
          "text": [
            "20+ 10= 30\n",
            "1051010.0501\n"
          ]
        }
      ]
    },
    {
      "cell_type": "code",
      "source": [
        "s = 0\n",
        "for n in range(1, 101):\n",
        "    s += n\n",
        "print(f'合計={s:d}')\n",
        "\n",
        "n = 4\n",
        "p = 1\n",
        "for i in range (n):\n",
        "    p *= 2\n",
        "print(f'{n}の階乗={p:d}')\n",
        "\n"
      ],
      "metadata": {
        "colab": {
          "base_uri": "https://localhost:8080/"
        },
        "id": "AJ0LbBbkcHtG",
        "outputId": "05ae1ebd-6019-4fee-cf83-361a9c93130f"
      },
      "execution_count": null,
      "outputs": [
        {
          "output_type": "stream",
          "name": "stdout",
          "text": [
            "合計=5050\n",
            "4の階乗=16\n"
          ]
        }
      ]
    },
    {
      "cell_type": "code",
      "source": [
        "for i in range(3):\n",
        "    result =''\n",
        "    for j in range(10):\n",
        "        result += '*'\n",
        "    print(result)\n",
        "\n",
        "########\n",
        "for i in range (1,10):\n",
        "    for j in range(1,10):\n",
        "        print(f'{i*j :4d}',end='')\n",
        "    print()\n",
        "\n",
        "\n",
        "\n",
        "\n"
      ],
      "metadata": {
        "colab": {
          "base_uri": "https://localhost:8080/"
        },
        "id": "MX70yYnNfqTC",
        "outputId": "038649a3-1655-46cc-de53-5a55ca62b5b3"
      },
      "execution_count": null,
      "outputs": [
        {
          "output_type": "stream",
          "name": "stdout",
          "text": [
            "**********\n",
            "**********\n",
            "**********\n",
            "   1   2   3   4   5   6   7   8   9\n",
            "   2   4   6   8  10  12  14  16  18\n",
            "   3   6   9  12  15  18  21  24  27\n",
            "   4   8  12  16  20  24  28  32  36\n",
            "   5  10  15  20  25  30  35  40  45\n",
            "   6  12  18  24  30  36  42  48  54\n",
            "   7  14  21  28  35  42  49  56  63\n",
            "   8  16  24  32  40  48  56  64  72\n",
            "   9  18  27  36  45  54  63  72  81\n"
          ]
        }
      ]
    },
    {
      "cell_type": "code",
      "source": [
        "\n",
        "age = 19\n",
        "if age < 18:\n",
        "    print('未成年')\n",
        "else:\n",
        "    print('成人')\n",
        "\n",
        "score = 80\n",
        "if score >=60:\n",
        "    print('OK')\n",
        "else:\n",
        "    print('NG')\n",
        "\n",
        "###########\n",
        "\n",
        "score = 80\n",
        "if score  < 60:\n",
        "    print('NG)')\n",
        "elif score < 80:\n",
        "    print('OK')\n",
        "else :\n",
        "    print('Perfect')\n",
        "\n",
        "\n",
        "\n"
      ],
      "metadata": {
        "colab": {
          "base_uri": "https://localhost:8080/"
        },
        "id": "oXbqLC56iQKm",
        "outputId": "509a7c82-ae65-45f7-c727-e894b51f2379"
      },
      "execution_count": null,
      "outputs": [
        {
          "output_type": "stream",
          "name": "stdout",
          "text": [
            "成人\n",
            "OK\n",
            "Perfect\n"
          ]
        }
      ]
    },
    {
      "cell_type": "code",
      "source": [
        "s= 0\n",
        "money = 1\n",
        "day = 0\n",
        "while s < 1000000:\n",
        "    s += money\n",
        "    money *= 2\n",
        "    day += 1\n",
        "print(f'{day:d}日:{s:d}円')\n",
        "\n",
        "for day in range (1,31):\n",
        "    s += money\n",
        "    print(f'{day:d}日:{s:d}円')\n",
        "    money *=2\n"
      ],
      "metadata": {
        "colab": {
          "base_uri": "https://localhost:8080/"
        },
        "id": "CmSLyeb1Advk",
        "outputId": "80f37a0d-1b0f-410c-8e3c-4e7353605e1d"
      },
      "execution_count": null,
      "outputs": [
        {
          "output_type": "stream",
          "name": "stdout",
          "text": [
            "20日:1048575円\n",
            "1日:2097151円\n",
            "2日:4194303円\n",
            "3日:8388607円\n",
            "4日:16777215円\n",
            "5日:33554431円\n",
            "6日:67108863円\n",
            "7日:134217727円\n",
            "8日:268435455円\n",
            "9日:536870911円\n",
            "10日:1073741823円\n",
            "11日:2147483647円\n",
            "12日:4294967295円\n",
            "13日:8589934591円\n",
            "14日:17179869183円\n",
            "15日:34359738367円\n",
            "16日:68719476735円\n",
            "17日:137438953471円\n",
            "18日:274877906943円\n",
            "19日:549755813887円\n",
            "20日:1099511627775円\n",
            "21日:2199023255551円\n",
            "22日:4398046511103円\n",
            "23日:8796093022207円\n",
            "24日:17592186044415円\n",
            "25日:35184372088831円\n",
            "26日:70368744177663円\n",
            "27日:140737488355327円\n",
            "28日:281474976710655円\n",
            "29日:562949953421311円\n",
            "30日:1125899906842623円\n"
          ]
        }
      ]
    },
    {
      "cell_type": "code",
      "source": [
        "m =[0 for i in range(100)]\n",
        "\n",
        "len(m)\n",
        "##########\n",
        "\n",
        "girl = ['a', 'b', 'c', 'd', 'e']\n",
        "age = [16, 17, 20, 21, 18]\n",
        "for i in range(len(girl)):\n",
        "    if age[i] < 18:\n",
        "        print(f'{girl[i]}さんは未成年です')\n",
        "    else:\n",
        "        print(f'{girl[i]}さんは成人です')\n",
        "##########\n",
        "\n",
        "#BMI = w/h**2\n",
        "\n",
        "\n",
        "girl = ['a', 'b', 'c', 'd', 'e']\n",
        "w = [42, 56, 45, 61, 50]\n",
        "h = [1.6, 1.65, 1.68, 1.53, 1.55]\n",
        "for i in range(len(girl)):\n",
        "    bmi  = w[i] / h[i] ** 2\n",
        "    if bmi < 18.5:\n",
        "        judge = '(低体重)'\n",
        "    elif bmi < 25:\n",
        "        judge = '(標準)'\n",
        "    else:\n",
        "        judge = '(肥満)'\n",
        "    print(f'{girl[i]:s}のBMIは{bmi:.1f}で{judge}')\n",
        "\n",
        "\n"
      ],
      "metadata": {
        "colab": {
          "base_uri": "https://localhost:8080/"
        },
        "id": "CduFybqzDJue",
        "outputId": "2c16d35e-ab6c-4bff-f89c-ea8bdcda8d7c"
      },
      "execution_count": null,
      "outputs": [
        {
          "output_type": "stream",
          "name": "stdout",
          "text": [
            "aさんは未成年です\n",
            "bさんは未成年です\n",
            "cさんは成人です\n",
            "dさんは成人です\n",
            "eさんは成人です\n",
            "aのBMIは16.4で(低体重)\n",
            "bのBMIは20.6で(標準)\n",
            "cのBMIは15.9で(低体重)\n",
            "dのBMIは26.1で(肥満)\n",
            "eのBMIは20.8で(標準)\n"
          ]
        }
      ]
    },
    {
      "cell_type": "code",
      "source": [
        "print(3/2)\n",
        "print(3.0/2)\n",
        "print(3//2)\n",
        "\n",
        "name = 'rui'\n",
        "age = 22\n",
        "msg = name + str(age)\n",
        "print(msg)\n",
        "\n",
        "girl = ['ann', 'lisa', 'nancy', 'amica']\n",
        "for i in girl:\n",
        "    if i[0] =='a':\n",
        "        print(i)\n",
        "\n",
        "girl = ['あやせ', 'さとう', 'かさい', 'いまい']\n",
        "print('あ行')\n",
        "for g in girl:\n",
        "    if 'あ' <= g[0] and g[0] <= 'お':\n",
        "        print(g)\n"
      ],
      "metadata": {
        "colab": {
          "base_uri": "https://localhost:8080/"
        },
        "id": "sl1InWcvFWXD",
        "outputId": "c59d5fcf-fd6f-4ddf-db28-9d4e733e2db1"
      },
      "execution_count": null,
      "outputs": [
        {
          "output_type": "stream",
          "name": "stdout",
          "text": [
            "1.5\n",
            "1.5\n",
            "1\n",
            "rui22\n",
            "ann\n",
            "amica\n",
            "あ行\n",
            "あやせ\n",
            "いまい\n"
          ]
        }
      ]
    },
    {
      "cell_type": "code",
      "source": [
        "import math\n",
        "for x  in range (0, 91, 10):\n",
        "    print(f'{x:2d}°:{math.sin(math.radians(x)):f}')\n",
        "print('      sin      cos')\n",
        "for x in range (0, 91, 10):\n",
        "    si = math.sin(math.radians(x))\n",
        "    co = math.cos(math.radians(x))\n",
        "    print(f'{x:2d}°:{si:f} {co:f}')"
      ],
      "metadata": {
        "colab": {
          "base_uri": "https://localhost:8080/"
        },
        "id": "X608ziCz_IKX",
        "outputId": "6dd59f1d-1c4b-4faf-f1ea-3166bfda478b"
      },
      "execution_count": null,
      "outputs": [
        {
          "output_type": "stream",
          "name": "stdout",
          "text": [
            " 0°:0.000000\n",
            "10°:0.173648\n",
            "20°:0.342020\n",
            "30°:0.500000\n",
            "40°:0.642788\n",
            "50°:0.766044\n",
            "60°:0.866025\n",
            "70°:0.939693\n",
            "80°:0.984808\n",
            "90°:1.000000\n",
            "      sin      cos\n",
            " 0°:0.000000 1.000000\n",
            "10°:0.173648 0.984808\n",
            "20°:0.342020 0.939693\n",
            "30°:0.500000 0.866025\n",
            "40°:0.642788 0.766044\n",
            "50°:0.766044 0.642788\n",
            "60°:0.866025 0.500000\n",
            "70°:0.939693 0.342020\n",
            "80°:0.984808 0.173648\n",
            "90°:1.000000 0.000000\n"
          ]
        }
      ]
    },
    {
      "cell_type": "code",
      "source": [
        "def mymax(a, b):\n",
        "    if a > b:\n",
        "        return(a)\n",
        "    else:\n",
        "        return(b)\n",
        "\n",
        "\n",
        "print(mymax(10, 20))\n",
        "\n",
        "def func1():\n",
        "    a = 1\n",
        "    print(a)\n",
        "\n",
        "def func2():\n",
        "    a = 2\n",
        "    print(a)\n",
        "\n",
        "func1()\n",
        "func2()\n",
        "\n",
        "\n",
        "\n"
      ],
      "metadata": {
        "colab": {
          "base_uri": "https://localhost:8080/"
        },
        "id": "BlIuj3bNCS9V",
        "outputId": "c16f9253-3e6f-467b-b5c3-54a1b5ff582a"
      },
      "execution_count": null,
      "outputs": [
        {
          "output_type": "stream",
          "name": "stdout",
          "text": [
            "20\n",
            "1\n",
            "2\n"
          ]
        }
      ]
    },
    {
      "cell_type": "code",
      "source": [
        "N = 1\n",
        "def func1():\n",
        "    N = 10\n",
        "    print(N)\n",
        "\n",
        "def func2():\n",
        "    global N\n",
        "    N += 1\n",
        "    print(N)\n",
        "\n",
        "func1()\n",
        "func2()\n",
        "\n"
      ],
      "metadata": {
        "colab": {
          "base_uri": "https://localhost:8080/"
        },
        "id": "RvFvE6d6FjIT",
        "outputId": "d421bf1e-452b-421a-fc1a-20fd1629fe77"
      },
      "execution_count": null,
      "outputs": [
        {
          "output_type": "stream",
          "name": "stdout",
          "text": [
            "10\n",
            "2\n"
          ]
        }
      ]
    },
    {
      "cell_type": "code",
      "source": [],
      "metadata": {
        "id": "7BOvaqV8xiOE"
      },
      "execution_count": null,
      "outputs": []
    },
    {
      "cell_type": "code",
      "source": [
        "class Person:\n",
        "    def __init__(self, name, age):\n",
        "        self.name = name\n",
        "        self.age = age\n",
        "\n",
        "    def disp(self):\n",
        "        print(f'name ={self.name:s},age = {self.age:d}')\n",
        "\n",
        "person = [Person('taro', 18), Person('jiro', 21), Person('itiro', 17)]\n",
        "person.disp()\n"
      ],
      "metadata": {
        "colab": {
          "base_uri": "https://localhost:8080/",
          "height": 202
        },
        "id": "O8kM2sRWGrq1",
        "outputId": "89e9703a-10e0-4931-8f53-e604776053ff"
      },
      "execution_count": null,
      "outputs": [
        {
          "output_type": "error",
          "ename": "AttributeError",
          "evalue": "'list' object has no attribute 'disp'",
          "traceback": [
            "\u001b[0;31m---------------------------------------------------------------------------\u001b[0m",
            "\u001b[0;31mAttributeError\u001b[0m                            Traceback (most recent call last)",
            "\u001b[0;32m<ipython-input-35-1e0e9c43eb8e>\u001b[0m in \u001b[0;36m<cell line: 0>\u001b[0;34m()\u001b[0m\n\u001b[1;32m      8\u001b[0m \u001b[0;34m\u001b[0m\u001b[0m\n\u001b[1;32m      9\u001b[0m \u001b[0mperson\u001b[0m \u001b[0;34m=\u001b[0m \u001b[0;34m[\u001b[0m\u001b[0mPerson\u001b[0m\u001b[0;34m(\u001b[0m\u001b[0;34m'taro'\u001b[0m\u001b[0;34m,\u001b[0m \u001b[0;36m18\u001b[0m\u001b[0;34m)\u001b[0m\u001b[0;34m,\u001b[0m \u001b[0mPerson\u001b[0m\u001b[0;34m(\u001b[0m\u001b[0;34m'jiro'\u001b[0m\u001b[0;34m,\u001b[0m \u001b[0;36m21\u001b[0m\u001b[0;34m)\u001b[0m\u001b[0;34m,\u001b[0m \u001b[0mPerson\u001b[0m\u001b[0;34m(\u001b[0m\u001b[0;34m'itiro'\u001b[0m\u001b[0;34m,\u001b[0m \u001b[0;36m17\u001b[0m\u001b[0;34m)\u001b[0m\u001b[0;34m]\u001b[0m\u001b[0;34m\u001b[0m\u001b[0;34m\u001b[0m\u001b[0m\n\u001b[0;32m---> 10\u001b[0;31m \u001b[0mperson\u001b[0m\u001b[0;34m.\u001b[0m\u001b[0mdisp\u001b[0m\u001b[0;34m(\u001b[0m\u001b[0;34m)\u001b[0m\u001b[0;34m\u001b[0m\u001b[0;34m\u001b[0m\u001b[0m\n\u001b[0m\u001b[1;32m     11\u001b[0m \u001b[0;34m\u001b[0m\u001b[0m\n",
            "\u001b[0;31mAttributeError\u001b[0m: 'list' object has no attribute 'disp'"
          ]
        }
      ]
    },
    {
      "cell_type": "code",
      "source": [
        "for i in range(-10, 11, 2):\n",
        "    x = i / 10\n",
        "    print(x, ',', end='')\n",
        "\n",
        "#########\n",
        "for i in range(-10, 11, 2):\n",
        "    x = i / 10\n",
        "    print(x, ',', end='')\n",
        "\n",
        "#########\n",
        "for i in range(26):\n",
        "    c = chr(ord('a') + i)\n",
        "    print(c, ',', end='')"
      ],
      "metadata": {
        "colab": {
          "base_uri": "https://localhost:8080/"
        },
        "id": "ObWxrmj3xjSV",
        "outputId": "4127ae84-dcf6-4a50-a49d-21cfb87589f2"
      },
      "execution_count": null,
      "outputs": [
        {
          "output_type": "stream",
          "name": "stdout",
          "text": [
            "-1.0 ,-0.8 ,-0.6 ,-0.4 ,-0.2 ,0.0 ,0.2 ,0.4 ,0.6 ,0.8 ,1.0 ,-1.0 ,-0.8 ,-0.6 ,-0.4 ,-0.2 ,0.0 ,0.2 ,0.4 ,0.6 ,0.8 ,1.0 ,a ,b ,c ,d ,e ,f ,g ,h ,i ,j ,k ,l ,m ,n ,o ,p ,q ,r ,s ,t ,u ,v ,w ,x ,y ,z ,"
          ]
        }
      ]
    },
    {
      "cell_type": "code",
      "source": [
        "a = 2\n",
        "b = 3\n",
        "a, b = b, a\n",
        "print(a)\n",
        "print(b)"
      ],
      "metadata": {
        "id": "piCsas6I3W9q",
        "outputId": "f22f7fb3-09b2-489b-f5b9-5e6871f99af5",
        "colab": {
          "base_uri": "https://localhost:8080/"
        }
      },
      "execution_count": null,
      "outputs": [
        {
          "output_type": "stream",
          "name": "stdout",
          "text": [
            "3\n",
            "2\n"
          ]
        }
      ]
    },
    {
      "cell_type": "code",
      "source": [
        "sign, s = 1, 0\n",
        "for i in range(1, 6):\n",
        "    s += sign * i**2\n",
        "    sign = -sign\n",
        "    print(s)"
      ],
      "metadata": {
        "colab": {
          "base_uri": "https://localhost:8080/"
        },
        "id": "l1ZLTIQLqfUt",
        "outputId": "3aee7c55-f451-4ee8-fa3d-f73534168eaf"
      },
      "execution_count": null,
      "outputs": [
        {
          "output_type": "stream",
          "name": "stdout",
          "text": [
            "1\n",
            "-3\n",
            "6\n",
            "-10\n",
            "15\n"
          ]
        }
      ]
    },
    {
      "cell_type": "code",
      "source": [
        "s = 0.1 + 0.1 + 0.1\n",
        "if s == 0.3:\n",
        "    print('ok')\n",
        "else:\n",
        "     print('no')\n",
        "\n",
        "\n"
      ],
      "metadata": {
        "colab": {
          "base_uri": "https://localhost:8080/"
        },
        "id": "a7kJJseUp3BS",
        "outputId": "ee731034-d6b7-4ac2-8868-1ec1161e056a"
      },
      "execution_count": null,
      "outputs": [
        {
          "output_type": "stream",
          "name": "stdout",
          "text": [
            "no\n"
          ]
        }
      ]
    },
    {
      "cell_type": "code",
      "source": [
        "for a in range(2):\n",
        "    for b in range(2):\n",
        "        c = a & b\n",
        "        print(a, b, c)"
      ],
      "metadata": {
        "colab": {
          "base_uri": "https://localhost:8080/"
        },
        "id": "RmW01y7ounU5",
        "outputId": "45fa0aeb-39fe-4d2f-f980-547f1de13f2a"
      },
      "execution_count": null,
      "outputs": [
        {
          "output_type": "stream",
          "name": "stdout",
          "text": [
            "0 0 0\n",
            "0 1 0\n",
            "1 0 0\n",
            "1 1 1\n"
          ]
        }
      ]
    },
    {
      "cell_type": "code",
      "source": [
        "for a in range(2):\n",
        "    for b in range(2):\n",
        "        s = a ^ b\n",
        "        c = a & b\n",
        "        print(a, b, s, c)"
      ],
      "metadata": {
        "colab": {
          "base_uri": "https://localhost:8080/"
        },
        "id": "xvfUcfwJyLX7",
        "outputId": "a826e177-8f84-428c-b0bc-84c1b74e47de"
      },
      "execution_count": null,
      "outputs": [
        {
          "output_type": "stream",
          "name": "stdout",
          "text": [
            "0 0 0 0\n",
            "0 1 1 0\n",
            "1 0 1 0\n",
            "1 1 0 1\n"
          ]
        }
      ]
    },
    {
      "cell_type": "code",
      "source": [
        "x = [0, 1, 0, 1, 0, 1, 0, 1]\n",
        "y = [0, 0, 0, 0, 1, 1, 1, 1]\n",
        "bar = ('_', '‾')\n",
        "\n",
        "abar = bbar = cbar = ''\n",
        "for i in range(len(x)):\n",
        "    a = x[i]\n",
        "    b = y[i]\n",
        "    c = a & b\n",
        "\n",
        "    abar += bar[a]\n",
        "    bbar += bar[b]\n",
        "    cbar += bar[c]\n",
        "print(abar)\n",
        "print(bbar)\n",
        "print(cbar)\n",
        "\n",
        "print(a)\n",
        "print(b)\n",
        "print(c)\n",
        "\n",
        "\n"
      ],
      "metadata": {
        "colab": {
          "base_uri": "https://localhost:8080/"
        },
        "id": "4niUjxe00o0x",
        "outputId": "0a0b74bf-cb58-445f-eba8-05ec731c232b"
      },
      "execution_count": null,
      "outputs": [
        {
          "output_type": "stream",
          "name": "stdout",
          "text": [
            "_‾_‾_‾_‾\n",
            "____‾‾‾‾\n",
            "_____‾_‾\n",
            "1\n",
            "1\n",
            "1\n"
          ]
        }
      ]
    },
    {
      "cell_type": "code",
      "source": [
        "fruit = 'apple'\n",
        "for i in range(len(fruit)):\n",
        "    print(fruit[:len(fruit) - i])"
      ],
      "metadata": {
        "colab": {
          "base_uri": "https://localhost:8080/"
        },
        "id": "5gB6UItq3gCu",
        "outputId": "96f0179f-3926-4970-88ff-c3bfcbed6f5e"
      },
      "execution_count": null,
      "outputs": [
        {
          "output_type": "stream",
          "name": "stdout",
          "text": [
            "apple\n",
            "appl\n",
            "app\n",
            "ap\n",
            "a\n"
          ]
        }
      ]
    },
    {
      "cell_type": "code",
      "source": [
        "text = 'This is a pen'\n",
        "n = text.count('is')\n",
        "print(n)\n",
        "\n",
        "text = ' to be , or not to be , that is the question.'\n",
        "for i in range(26):\n",
        "    alpha = chr(i + 97)\n",
        "    n = text.count(alpha)\n",
        "    print(f'{alpha:s}:{n:2d}')"
      ],
      "metadata": {
        "colab": {
          "base_uri": "https://localhost:8080/"
        },
        "id": "iTfU9_TT4-9b",
        "outputId": "f2b351dd-67b1-43b3-f8d9-d889722ded4b"
      },
      "execution_count": null,
      "outputs": [
        {
          "output_type": "stream",
          "name": "stdout",
          "text": [
            "2\n",
            "a: 1\n",
            "b: 2\n",
            "c: 0\n",
            "d: 0\n",
            "e: 4\n",
            "f: 0\n",
            "g: 0\n",
            "h: 2\n",
            "i: 2\n",
            "j: 0\n",
            "k: 0\n",
            "l: 0\n",
            "m: 0\n",
            "n: 2\n",
            "o: 5\n",
            "p: 0\n",
            "q: 1\n",
            "r: 1\n",
            "s: 2\n",
            "t: 7\n",
            "u: 1\n",
            "v: 0\n",
            "w: 0\n",
            "x: 0\n",
            "y: 0\n",
            "z: 0\n"
          ]
        }
      ]
    },
    {
      "cell_type": "code",
      "source": [
        "text = 'this is a pen.that is a pencil.'\n",
        "key = 'pen'\n",
        "p=0\n",
        "while True:\n",
        "    p = text.find(key, p)\n",
        "    if p == -1:\n",
        "        break\n",
        "    print(text[p:])\n",
        "    p += 1"
      ],
      "metadata": {
        "id": "MroBEQx_kRf8"
      },
      "execution_count": null,
      "outputs": []
    },
    {
      "cell_type": "code",
      "source": [
        "word = ['apple', 'orange', 'banana',]\n",
        "print(word)\n",
        "\n",
        "word.append('strawberry')\n",
        "print(word)"
      ],
      "metadata": {
        "colab": {
          "base_uri": "https://localhost:8080/"
        },
        "id": "Uf2C-IqPmfGX",
        "outputId": "0910a3c4-43f0-4c09-f625-a2a34e80ca3c"
      },
      "execution_count": null,
      "outputs": [
        {
          "output_type": "stream",
          "name": "stdout",
          "text": [
            "['apple', 'orange', 'banana']\n",
            "['apple', 'orange', 'banana', 'strawberry']\n"
          ]
        }
      ]
    },
    {
      "cell_type": "code",
      "source": [
        "word = ['apple', 'orange', 'banana']\n",
        "n = word.index('banana')\n",
        "print(n)\n",
        "\n",
        "##########\n",
        "girl = ['Ann', 'Lisa', 'Rolla']\n",
        "key = 'Lisa'\n",
        "ins = 'Nancy'\n",
        "\n",
        "if key in girl:\n",
        "    i = girl.index(key)\n",
        "    girl.insert(i, ins)\n",
        "    print(girl)\n",
        "else:\n",
        "    print('見つかりません')\n",
        "\n",
        "if key in girl:\n",
        "    girl.remove(key)\n",
        "print(girl)\n",
        "del girl[1]\n",
        "print(girl)\n",
        "\n"
      ],
      "metadata": {
        "colab": {
          "base_uri": "https://localhost:8080/"
        },
        "id": "DxupZyOGpMjJ",
        "outputId": "59444920-598c-464f-bc2d-6d6e20c4d873"
      },
      "execution_count": null,
      "outputs": [
        {
          "output_type": "stream",
          "name": "stdout",
          "text": [
            "2\n",
            "['Ann', 'Nancy', 'Lisa', 'Rolla']\n",
            "['Ann', 'Nancy', 'Rolla']\n",
            "['Ann', 'Rolla']\n"
          ]
        }
      ]
    },
    {
      "cell_type": "code",
      "source": [
        "text = 'abcd'\n",
        "Ls = list(text)\n",
        "print(Ls)\n",
        "text = ''.join(Ls)\n",
        "print(text)\n",
        "\n",
        "######\n",
        "text = 'a??le'\n",
        "Ls = list(text)\n",
        "for i in range(len(Ls)):\n",
        "    if Ls[i] == '?':\n",
        "        Ls[i] = 'p'\n",
        "newtext = ''.join(Ls)\n",
        "print(newtext)\n",
        "print(text)\n"
      ],
      "metadata": {
        "colab": {
          "base_uri": "https://localhost:8080/"
        },
        "id": "9XRH1TKMsTRv",
        "outputId": "61b0003c-c156-4ad4-c36b-c21585889642"
      },
      "execution_count": null,
      "outputs": [
        {
          "output_type": "stream",
          "name": "stdout",
          "text": [
            "['a', 'b', 'c', 'd']\n",
            "abcd\n",
            "apple\n",
            "a??le\n"
          ]
        }
      ]
    },
    {
      "cell_type": "code",
      "source": [
        "class Person:                                 #ボールの設計図\n",
        "    def __init__(self, kanji, yomi, age):\n",
        "        self.kanji = kanji\n",
        "        self.yomi = yomi\n",
        "        self.age = age\n",
        "\n",
        "\n",
        "person = [Person('河西', 'かさい', 17),       #箱にボールを入れる, person = 変数\n",
        "          Person('綾瀬', 'あやせ', 21)]\n",
        "\n",
        "print('あ行')\n",
        "for i in person:\n",
        "    if 'あ' <= p.kanji[0] and p.kanji[0] <= 'お':\n",
        "        print(p.kanji)\n",
        "\n",
        "\n"
      ],
      "metadata": {
        "id": "XZ_dIXqkrifp",
        "colab": {
          "base_uri": "https://localhost:8080/"
        },
        "outputId": "47b8261f-92f5-4d2c-bbb7-9ac926bd2499"
      },
      "execution_count": null,
      "outputs": [
        {
          "output_type": "stream",
          "name": "stdout",
          "text": [
            "あ行\n"
          ]
        }
      ]
    },
    {
      "cell_type": "code",
      "source": [
        "class Person:\n",
        "    def __init__(self, kanji, yomi, age):\n",
        "        self.kanji = kanji\n",
        "        self.yomi = yomi\n",
        "        self.age = age\n",
        "\n",
        "person = [Person('河西', 'かさい',17),\n",
        "          Person('綾瀬', 'あやせ', 21),\n",
        "          Person('山田', 'やまだ', 20),\n",
        "          Person('井上', 'いのうえ', 16),]\n",
        "\n",
        "print('未成年')\n",
        "for p in person:\n",
        "    if p.age < 18:\n",
        "        print(p.kanji, p.yomi, p.age)\n"
      ],
      "metadata": {
        "colab": {
          "base_uri": "https://localhost:8080/"
        },
        "id": "SZHmMSkV2GeV",
        "outputId": "18babd39-95fd-4a35-966a-c64e88b04593"
      },
      "execution_count": null,
      "outputs": [
        {
          "output_type": "stream",
          "name": "stdout",
          "text": [
            "未成年\n",
            "河西 かさい 17\n",
            "井上 いのうえ 16\n"
          ]
        }
      ]
    },
    {
      "cell_type": "code",
      "source": [
        "class Person:\n",
        "    def __init__(self, kanji, yomi, age):\n",
        "        self.kanji = kanji\n",
        "        self.yomi = yomi\n",
        "        self.age = age\n",
        "\n",
        "    def disp(self):\n",
        "        print(self.kanji, self.yomi, self.age)\n",
        "\n",
        "    def check(self, key):\n",
        "        if key <= self.yomi <= chr(ord(key) + ord('か') - ord('あ')):\n",
        "            return True\n",
        "        else:\n",
        "            return False\n",
        "\n",
        "person = [Person('河西', 'かさい',17),\n",
        "          Person('綾瀬', 'あやせ', 21),\n",
        "          Person('山田', 'やまだ', 20),\n",
        "          Person('井上', 'いのうえ', 16),]\n",
        "\n",
        "for p in person:\n",
        "    if p.check('あ'):\n",
        "        p.disp()"
      ],
      "metadata": {
        "colab": {
          "base_uri": "https://localhost:8080/"
        },
        "id": "9LGngwCi3uAE",
        "outputId": "1cd62d36-daea-4b9c-f323-477a05ccb93b"
      },
      "execution_count": null,
      "outputs": [
        {
          "output_type": "stream",
          "name": "stdout",
          "text": [
            "綾瀬 あやせ 21\n",
            "井上 いのうえ 16\n"
          ]
        }
      ]
    },
    {
      "cell_type": "code",
      "source": [
        "class Person:\n",
        "    def __init__(self, kanji, yomi, age):\n",
        "        self.kanji = kanji\n",
        "        self.yomi = yomi\n",
        "        self.age = age\n",
        "\n",
        "class Persons:\n",
        "    def __init__(self,persons):\n",
        "        self.persons = persons\n",
        "\n",
        "    def sort(self):\n",
        "        a = self.persons\n",
        "        for i in range(len(a) -1, 0, -1):\n",
        "            for j in range(0, i):\n",
        "                if a[j].yomi >a[j + 1].yomi:\n",
        "                    a[j], a[j+1] = a[j + 1], a[j]\n",
        "\n",
        "person = [Person('河西', 'かさい',17),\n",
        "          Person('綾瀬', 'あやせ', 21),\n",
        "          Person('山田', 'やまだ', 20),\n",
        "          Person('井上', 'いのうえ', 16),]\n",
        "\n",
        "persons = Persons(person)\n",
        "persons.sort()\n",
        "for p in person:\n",
        "    print(p.kanji, p.yomi, p.age)"
      ],
      "metadata": {
        "colab": {
          "base_uri": "https://localhost:8080/"
        },
        "id": "uNQUrlU2-6bh",
        "outputId": "969036e6-11b4-4e33-f4b4-1ead9c0664c9"
      },
      "execution_count": null,
      "outputs": [
        {
          "output_type": "stream",
          "name": "stdout",
          "text": [
            "綾瀬 あやせ 21\n",
            "井上 いのうえ 16\n",
            "河西 かさい 17\n",
            "山田 やまだ 20\n"
          ]
        }
      ]
    }
  ]
}