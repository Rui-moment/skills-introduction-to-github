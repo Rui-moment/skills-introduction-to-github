{
  "nbformat": 4,
  "nbformat_minor": 0,
  "metadata": {
    "colab": {
      "provenance": [],
      "authorship_tag": "ABX9TyOUOloVWPvOCfaTY//FOi7m",
      "include_colab_link": true
    },
    "kernelspec": {
      "name": "python3",
      "display_name": "Python 3"
    },
    "language_info": {
      "name": "python"
    }
  },
  "cells": [
    {
      "cell_type": "markdown",
      "metadata": {
        "id": "view-in-github",
        "colab_type": "text"
      },
      "source": [
        "<a href=\"https://colab.research.google.com/github/Rui-moment/skills-introduction-to-github/blob/main/%E5%AD%A6%E7%BF%92%E7%94%A8%E3%80%806_1.ipynb\" target=\"_parent\"><img src=\"https://colab.research.google.com/assets/colab-badge.svg\" alt=\"Open In Colab\"/></a>"
      ]
    },
    {
      "cell_type": "code",
      "execution_count": null,
      "metadata": {
        "colab": {
          "base_uri": "https://localhost:8080/"
        },
        "id": "ORdoIGQFHQ8t",
        "outputId": "842597ab-351d-4005-d964-28104ab8b299"
      },
      "outputs": [
        {
          "output_type": "stream",
          "name": "stdout",
          "text": [
            " 0!=1\n",
            " 1!=1\n",
            " 2!=2\n",
            " 3!=6\n",
            " 4!=24\n",
            " 5!=120\n",
            " 6!=720\n",
            " 7!=5040\n",
            " 8!=40320\n",
            " 9!=362880\n",
            "10!=3628800\n"
          ]
        }
      ],
      "source": [
        "###漸化式\n",
        "\n",
        "def factorial(n):\n",
        "    if n == 0:\n",
        "        return 1\n",
        "    else:\n",
        "        return n * factorial(n-1)\n",
        "\n",
        "for n in range(11):\n",
        "    print(f'{n:2d}!={factorial(n):d}')"
      ]
    },
    {
      "cell_type": "code",
      "source": [
        "def pow(x,n):\n",
        "    if n == 0:\n",
        "        return 1\n",
        "    else:\n",
        "        return x * x ** (n-1)\n",
        "\n",
        "x = 10\n",
        "for n in range(11):\n",
        "    print(f'{x:2d}^{n:2d}={pow(x,n):d}')"
      ],
      "metadata": {
        "colab": {
          "base_uri": "https://localhost:8080/"
        },
        "id": "SBlVDCyvJHvx",
        "outputId": "3f4f0ca0-6b18-409f-a055-d2cbff1daa6a"
      },
      "execution_count": null,
      "outputs": [
        {
          "output_type": "stream",
          "name": "stdout",
          "text": [
            "10^ 0=1\n",
            "10^ 1=10\n",
            "10^ 2=100\n",
            "10^ 3=1000\n",
            "10^ 4=10000\n",
            "10^ 5=100000\n",
            "10^ 6=1000000\n",
            "10^ 7=10000000\n",
            "10^ 8=100000000\n",
            "10^ 9=1000000000\n",
            "10^10=10000000000\n"
          ]
        }
      ]
    },
    {
      "cell_type": "code",
      "source": [
        "def combi(n, r):\n",
        "    if r == 0 or n == r:\n",
        "        return 1\n",
        "    else:\n",
        "        return combi(n-1, r) + combi(n-1, r-1)\n",
        "\n",
        "for n in range(6):\n",
        "    for r in range(n+1):\n",
        "       print(f'{n:d}C{r:d}={combi(n, r):d}  ', end = '')\n",
        "    print()\n"
      ],
      "metadata": {
        "colab": {
          "base_uri": "https://localhost:8080/"
        },
        "id": "sBsJ5qi_LdKj",
        "outputId": "15c9053c-5dff-45e9-be82-8258168adc0f"
      },
      "execution_count": null,
      "outputs": [
        {
          "output_type": "stream",
          "name": "stdout",
          "text": [
            "0C0=1  \n",
            "1C0=1  1C1=1  \n",
            "2C0=1  2C1=2  2C2=1  \n",
            "3C0=1  3C1=3  3C2=3  3C3=1  \n",
            "4C0=1  4C1=4  4C2=6  4C3=4  4C4=1  \n",
            "5C0=1  5C1=5  5C2=10  5C3=10  5C4=5  5C5=1  \n"
          ]
        }
      ]
    },
    {
      "cell_type": "code",
      "source": [
        "###再帰を使わないパターン\n",
        "\n",
        "def factorial(n):\n",
        "    p = 1\n",
        "    for k in range(n, 0, -1):\n",
        "        p *= k\n",
        "    return p\n",
        "\n",
        "for n in range(11):\n",
        "    print(f'{n:2d}!={factorial(n):d}')"
      ],
      "metadata": {
        "colab": {
          "base_uri": "https://localhost:8080/"
        },
        "id": "SL2nar01SM3E",
        "outputId": "6fe149b1-03ee-4c85-faa2-5356adc0f96b"
      },
      "execution_count": null,
      "outputs": [
        {
          "output_type": "stream",
          "name": "stdout",
          "text": [
            " 0!=1\n",
            " 1!=1\n",
            " 2!=2\n",
            " 3!=6\n",
            " 4!=24\n",
            " 5!=120\n",
            " 6!=720\n",
            " 7!=5040\n",
            " 8!=40320\n",
            " 9!=362880\n",
            "10!=3628800\n"
          ]
        }
      ]
    },
    {
      "cell_type": "code",
      "source": [
        "#べきじょう\n",
        "def pow(x, n):\n",
        "    p = 1\n",
        "    for k__ in range(1, n+1):\n",
        "        p *= x\n",
        "    return p\n",
        "x = 2\n",
        "for n in range(11):\n",
        "    print(f'{x:2d}^{n:2d}={pow(x,n):d}')\n",
        "\n"
      ],
      "metadata": {
        "colab": {
          "base_uri": "https://localhost:8080/"
        },
        "id": "n5No4V1XSTBg",
        "outputId": "ebf8a3d4-0f7e-466e-d76d-56bfc52bd18a"
      },
      "execution_count": null,
      "outputs": [
        {
          "output_type": "stream",
          "name": "stdout",
          "text": [
            " 2^ 0=1\n",
            " 2^ 1=2\n",
            " 2^ 2=4\n",
            " 2^ 3=8\n",
            " 2^ 4=16\n",
            " 2^ 5=32\n",
            " 2^ 6=64\n",
            " 2^ 7=128\n",
            " 2^ 8=256\n",
            " 2^ 9=512\n",
            " 2^10=1024\n"
          ]
        }
      ]
    },
    {
      "cell_type": "code",
      "source": [
        "###組み合わせ\n",
        "\n",
        "def combi(n, r):\n",
        "    p = 1\n",
        "    for i in range(1, r + 1):\n",
        "        p = p * (n - i + 1) // i\n",
        "    return p\n",
        "for n in range(6):\n",
        "    for r in range(n + 1):\n",
        "        print(f'{n:d}C{r:d}={combi(n, r):d}  ', end = '')\n",
        "    print()\n"
      ],
      "metadata": {
        "colab": {
          "base_uri": "https://localhost:8080/"
        },
        "id": "63VOlojpWoPx",
        "outputId": "6a93a1da-7c44-4406-d91e-bcf146a4974a"
      },
      "execution_count": null,
      "outputs": [
        {
          "output_type": "stream",
          "name": "stdout",
          "text": [
            "0C0=1  \n",
            "1C0=1  1C1=1  \n",
            "2C0=1  2C1=2  2C2=1  \n",
            "3C0=1  3C1=3  3C2=3  3C3=1  \n",
            "4C0=1  4C1=4  4C2=6  4C3=4  4C4=1  \n",
            "5C0=1  5C1=5  5C2=10  5C3=10  5C4=5  5C5=1  \n"
          ]
        }
      ]
    },
    {
      "cell_type": "code",
      "source": [
        "### コッホ曲線\n",
        "!pip3 install ColabTurtle\n",
        "from ColabTurtle.Turtle import *\n",
        "initializeTurtle(initial_window_size=(640, 480), initial_speed=1)\n",
        "hideturtle()\n",
        "width(2)\n",
        "bgcolor('white')\n",
        "color('blue')\n",
        "\n",
        "def koch(n, leng):\n",
        "    if n == 0:\n",
        "        forward(leng)\n",
        "    else:\n",
        "        koch(n - 1, leng)\n",
        "        left(60)\n",
        "        koch(n - 1, leng)\n",
        "        left(120)\n",
        "        koch(n - 1, leng)\n",
        "        left(60)\n",
        "        koch(n - 1, leng)\n",
        "\n",
        "\n",
        "n = 3\n",
        "leng = 4.0\n",
        "penup(); goto(100,200); face(0); pendown()\n",
        "koch(n, leng)\n"
      ],
      "metadata": {
        "colab": {
          "base_uri": "https://localhost:8080/",
          "height": 704
        },
        "id": "1qPcHCSAjBuN",
        "outputId": "a082f4ea-229a-41b1-b711-02ccace37bf7"
      },
      "execution_count": 1,
      "outputs": [
        {
          "output_type": "stream",
          "name": "stdout",
          "text": [
            "Collecting ColabTurtle\n",
            "  Downloading ColabTurtle-2.1.0.tar.gz (6.8 kB)\n",
            "  Preparing metadata (setup.py) ... \u001b[?25l\u001b[?25hdone\n",
            "Building wheels for collected packages: ColabTurtle\n",
            "  Building wheel for ColabTurtle (setup.py) ... \u001b[?25l\u001b[?25hdone\n",
            "  Created wheel for ColabTurtle: filename=ColabTurtle-2.1.0-py3-none-any.whl size=7643 sha256=48f178df3f8137195897441947e1f01547854e934509719c9731ae36f1b5742f\n",
            "  Stored in directory: /root/.cache/pip/wheels/f6/9e/81/137e7da25129474562d30f8660be599e5c8d79228cb747e5b9\n",
            "Successfully built ColabTurtle\n",
            "Installing collected packages: ColabTurtle\n",
            "Successfully installed ColabTurtle-2.1.0\n"
          ]
        },
        {
          "output_type": "display_data",
          "data": {
            "text/plain": [
              "<IPython.core.display.HTML object>"
            ],
            "text/html": [
              "\n",
              "      <svg width=\"640\" height=\"480\">\n",
              "        <rect width=\"100%\" height=\"100%\" fill=\"white\"/>\n",
              "        <line x1=\"100\" y1=\"200\" x2=\"104.0\" y2=\"200.0\" stroke-linecap=\"round\" style=\"stroke:blue;stroke-width:2\"/><line x1=\"104.0\" y1=\"200.0\" x2=\"106.0\" y2=\"196.536\" stroke-linecap=\"round\" style=\"stroke:blue;stroke-width:2\"/><line x1=\"106.0\" y1=\"196.536\" x2=\"102.0\" y2=\"196.536\" stroke-linecap=\"round\" style=\"stroke:blue;stroke-width:2\"/><line x1=\"102.0\" y1=\"196.536\" x2=\"100.0\" y2=\"200.0\" stroke-linecap=\"round\" style=\"stroke:blue;stroke-width:2\"/><line x1=\"100.0\" y1=\"200.0\" x2=\"102.0\" y2=\"203.464\" stroke-linecap=\"round\" style=\"stroke:blue;stroke-width:2\"/><line x1=\"102.0\" y1=\"203.464\" x2=\"106.0\" y2=\"203.464\" stroke-linecap=\"round\" style=\"stroke:blue;stroke-width:2\"/><line x1=\"106.0\" y1=\"203.464\" x2=\"104.0\" y2=\"200.0\" stroke-linecap=\"round\" style=\"stroke:blue;stroke-width:2\"/><line x1=\"104.0\" y1=\"200.0\" x2=\"100.0\" y2=\"200.0\" stroke-linecap=\"round\" style=\"stroke:blue;stroke-width:2\"/><line x1=\"100.0\" y1=\"200.0\" x2=\"102.0\" y2=\"203.464\" stroke-linecap=\"round\" style=\"stroke:blue;stroke-width:2\"/><line x1=\"102.0\" y1=\"203.464\" x2=\"106.0\" y2=\"203.464\" stroke-linecap=\"round\" style=\"stroke:blue;stroke-width:2\"/><line x1=\"106.0\" y1=\"203.464\" x2=\"104.0\" y2=\"200.0\" stroke-linecap=\"round\" style=\"stroke:blue;stroke-width:2\"/><line x1=\"104.0\" y1=\"200.0\" x2=\"100.0\" y2=\"200.0\" stroke-linecap=\"round\" style=\"stroke:blue;stroke-width:2\"/><line x1=\"100.0\" y1=\"200.0\" x2=\"98.0\" y2=\"203.464\" stroke-linecap=\"round\" style=\"stroke:blue;stroke-width:2\"/><line x1=\"98.0\" y1=\"203.464\" x2=\"100.0\" y2=\"206.928\" stroke-linecap=\"round\" style=\"stroke:blue;stroke-width:2\"/><line x1=\"100.0\" y1=\"206.928\" x2=\"102.0\" y2=\"203.464\" stroke-linecap=\"round\" style=\"stroke:blue;stroke-width:2\"/><line x1=\"102.0\" y1=\"203.464\" x2=\"100.0\" y2=\"200.0\" stroke-linecap=\"round\" style=\"stroke:blue;stroke-width:2\"/><line x1=\"100.0\" y1=\"200.0\" x2=\"96.0\" y2=\"200.0\" stroke-linecap=\"round\" style=\"stroke:blue;stroke-width:2\"/><line x1=\"96.0\" y1=\"200.0\" x2=\"94.0\" y2=\"203.464\" stroke-linecap=\"round\" style=\"stroke:blue;stroke-width:2\"/><line x1=\"94.0\" y1=\"203.464\" x2=\"98.0\" y2=\"203.464\" stroke-linecap=\"round\" style=\"stroke:blue;stroke-width:2\"/><line x1=\"98.0\" y1=\"203.464\" x2=\"100.0\" y2=\"200.0\" stroke-linecap=\"round\" style=\"stroke:blue;stroke-width:2\"/><line x1=\"100.0\" y1=\"200.0\" x2=\"98.0\" y2=\"196.536\" stroke-linecap=\"round\" style=\"stroke:blue;stroke-width:2\"/><line x1=\"98.0\" y1=\"196.536\" x2=\"94.0\" y2=\"196.536\" stroke-linecap=\"round\" style=\"stroke:blue;stroke-width:2\"/><line x1=\"94.0\" y1=\"196.536\" x2=\"96.0\" y2=\"200.0\" stroke-linecap=\"round\" style=\"stroke:blue;stroke-width:2\"/><line x1=\"96.0\" y1=\"200.0\" x2=\"100.0\" y2=\"200.0\" stroke-linecap=\"round\" style=\"stroke:blue;stroke-width:2\"/><line x1=\"100.0\" y1=\"200.0\" x2=\"98.0\" y2=\"196.536\" stroke-linecap=\"round\" style=\"stroke:blue;stroke-width:2\"/><line x1=\"98.0\" y1=\"196.536\" x2=\"94.0\" y2=\"196.536\" stroke-linecap=\"round\" style=\"stroke:blue;stroke-width:2\"/><line x1=\"94.0\" y1=\"196.536\" x2=\"96.0\" y2=\"200.0\" stroke-linecap=\"round\" style=\"stroke:blue;stroke-width:2\"/><line x1=\"96.0\" y1=\"200.0\" x2=\"100.0\" y2=\"200.0\" stroke-linecap=\"round\" style=\"stroke:blue;stroke-width:2\"/><line x1=\"100.0\" y1=\"200.0\" x2=\"102.0\" y2=\"196.536\" stroke-linecap=\"round\" style=\"stroke:blue;stroke-width:2\"/><line x1=\"102.0\" y1=\"196.536\" x2=\"100.0\" y2=\"193.072\" stroke-linecap=\"round\" style=\"stroke:blue;stroke-width:2\"/><line x1=\"100.0\" y1=\"193.072\" x2=\"98.0\" y2=\"196.536\" stroke-linecap=\"round\" style=\"stroke:blue;stroke-width:2\"/><line x1=\"98.0\" y1=\"196.536\" x2=\"100.0\" y2=\"200.0\" stroke-linecap=\"round\" style=\"stroke:blue;stroke-width:2\"/><line x1=\"100.0\" y1=\"200.0\" x2=\"102.0\" y2=\"196.536\" stroke-linecap=\"round\" style=\"stroke:blue;stroke-width:2\"/><line x1=\"102.0\" y1=\"196.536\" x2=\"100.0\" y2=\"193.072\" stroke-linecap=\"round\" style=\"stroke:blue;stroke-width:2\"/><line x1=\"100.0\" y1=\"193.072\" x2=\"98.0\" y2=\"196.536\" stroke-linecap=\"round\" style=\"stroke:blue;stroke-width:2\"/><line x1=\"98.0\" y1=\"196.536\" x2=\"100.0\" y2=\"200.0\" stroke-linecap=\"round\" style=\"stroke:blue;stroke-width:2\"/><line x1=\"100.0\" y1=\"200.0\" x2=\"104.0\" y2=\"200.0\" stroke-linecap=\"round\" style=\"stroke:blue;stroke-width:2\"/><line x1=\"104.0\" y1=\"200.0\" x2=\"106.0\" y2=\"196.536\" stroke-linecap=\"round\" style=\"stroke:blue;stroke-width:2\"/><line x1=\"106.0\" y1=\"196.536\" x2=\"102.0\" y2=\"196.536\" stroke-linecap=\"round\" style=\"stroke:blue;stroke-width:2\"/><line x1=\"102.0\" y1=\"196.536\" x2=\"100.0\" y2=\"200.0\" stroke-linecap=\"round\" style=\"stroke:blue;stroke-width:2\"/><line x1=\"100.0\" y1=\"200.0\" x2=\"104.0\" y2=\"200.0\" stroke-linecap=\"round\" style=\"stroke:blue;stroke-width:2\"/><line x1=\"104.0\" y1=\"200.0\" x2=\"106.0\" y2=\"196.536\" stroke-linecap=\"round\" style=\"stroke:blue;stroke-width:2\"/><line x1=\"106.0\" y1=\"196.536\" x2=\"102.0\" y2=\"196.536\" stroke-linecap=\"round\" style=\"stroke:blue;stroke-width:2\"/><line x1=\"102.0\" y1=\"196.536\" x2=\"100.0\" y2=\"200.0\" stroke-linecap=\"round\" style=\"stroke:blue;stroke-width:2\"/><line x1=\"100.0\" y1=\"200.0\" x2=\"102.0\" y2=\"203.464\" stroke-linecap=\"round\" style=\"stroke:blue;stroke-width:2\"/><line x1=\"102.0\" y1=\"203.464\" x2=\"106.0\" y2=\"203.464\" stroke-linecap=\"round\" style=\"stroke:blue;stroke-width:2\"/><line x1=\"106.0\" y1=\"203.464\" x2=\"104.0\" y2=\"200.0\" stroke-linecap=\"round\" style=\"stroke:blue;stroke-width:2\"/><line x1=\"104.0\" y1=\"200.0\" x2=\"100.0\" y2=\"200.0\" stroke-linecap=\"round\" style=\"stroke:blue;stroke-width:2\"/><line x1=\"100.0\" y1=\"200.0\" x2=\"98.0\" y2=\"203.464\" stroke-linecap=\"round\" style=\"stroke:blue;stroke-width:2\"/><line x1=\"98.0\" y1=\"203.464\" x2=\"100.0\" y2=\"206.928\" stroke-linecap=\"round\" style=\"stroke:blue;stroke-width:2\"/><line x1=\"100.0\" y1=\"206.928\" x2=\"102.0\" y2=\"203.464\" stroke-linecap=\"round\" style=\"stroke:blue;stroke-width:2\"/><line x1=\"102.0\" y1=\"203.464\" x2=\"100.0\" y2=\"200.0\" stroke-linecap=\"round\" style=\"stroke:blue;stroke-width:2\"/><line x1=\"100.0\" y1=\"200.0\" x2=\"96.0\" y2=\"200.0\" stroke-linecap=\"round\" style=\"stroke:blue;stroke-width:2\"/><line x1=\"96.0\" y1=\"200.0\" x2=\"94.0\" y2=\"203.464\" stroke-linecap=\"round\" style=\"stroke:blue;stroke-width:2\"/><line x1=\"94.0\" y1=\"203.464\" x2=\"98.0\" y2=\"203.464\" stroke-linecap=\"round\" style=\"stroke:blue;stroke-width:2\"/><line x1=\"98.0\" y1=\"203.464\" x2=\"100.0\" y2=\"200.0\" stroke-linecap=\"round\" style=\"stroke:blue;stroke-width:2\"/><line x1=\"100.0\" y1=\"200.0\" x2=\"96.0\" y2=\"200.0\" stroke-linecap=\"round\" style=\"stroke:blue;stroke-width:2\"/><line x1=\"96.0\" y1=\"200.0\" x2=\"94.0\" y2=\"203.464\" stroke-linecap=\"round\" style=\"stroke:blue;stroke-width:2\"/><line x1=\"94.0\" y1=\"203.464\" x2=\"98.0\" y2=\"203.464\" stroke-linecap=\"round\" style=\"stroke:blue;stroke-width:2\"/><line x1=\"98.0\" y1=\"203.464\" x2=\"100.0\" y2=\"200.0\" stroke-linecap=\"round\" style=\"stroke:blue;stroke-width:2\"/><line x1=\"100.0\" y1=\"200.0\" x2=\"98.0\" y2=\"196.536\" stroke-linecap=\"round\" style=\"stroke:blue;stroke-width:2\"/><line x1=\"98.0\" y1=\"196.536\" x2=\"94.0\" y2=\"196.536\" stroke-linecap=\"round\" style=\"stroke:blue;stroke-width:2\"/><line x1=\"94.0\" y1=\"196.536\" x2=\"96.0\" y2=\"200.0\" stroke-linecap=\"round\" style=\"stroke:blue;stroke-width:2\"/><line x1=\"96.0\" y1=\"200.0\" x2=\"100.0\" y2=\"200.0\" stroke-linecap=\"round\" style=\"stroke:blue;stroke-width:2\"/>\n",
              "        <g visibility=hidden transform=\"rotate(90,100.0,200.0) translate(82.0, 182.0)\">\n",
              "<path style=\" stroke:none;fill-rule:evenodd;fill:blue;fill-opacity:1;\" d=\"M 18.214844 0.632812 C 16.109375 1.800781 15.011719 4.074219 15.074219 7.132812 L 15.085938 7.652344 L 14.785156 7.496094 C 13.476562 6.824219 11.957031 6.671875 10.40625 7.066406 C 8.46875 7.550781 6.515625 9.15625 4.394531 11.992188 C 3.0625 13.777344 2.679688 14.636719 3.042969 15.027344 L 3.15625 15.152344 L 3.519531 15.152344 C 4.238281 15.152344 4.828125 14.886719 8.1875 13.039062 C 9.386719 12.378906 10.371094 11.839844 10.378906 11.839844 C 10.386719 11.839844 10.355469 11.929688 10.304688 12.035156 C 9.832031 13.09375 9.257812 14.820312 8.96875 16.078125 C 7.914062 20.652344 8.617188 24.53125 11.070312 27.660156 C 11.351562 28.015625 11.363281 27.914062 10.972656 28.382812 C 8.925781 30.84375 7.945312 33.28125 8.238281 35.1875 C 8.289062 35.527344 8.28125 35.523438 8.917969 35.523438 C 10.941406 35.523438 13.074219 34.207031 15.136719 31.6875 C 15.359375 31.417969 15.328125 31.425781 15.5625 31.574219 C 16.292969 32.042969 18.023438 32.964844 18.175781 32.964844 C 18.335938 32.964844 19.941406 32.210938 20.828125 31.71875 C 20.996094 31.625 21.136719 31.554688 21.136719 31.558594 C 21.203125 31.664062 21.898438 32.414062 22.222656 32.730469 C 23.835938 34.300781 25.5625 35.132812 27.582031 35.300781 C 27.90625 35.328125 27.9375 35.308594 28.007812 34.984375 C 28.382812 33.242188 27.625 30.925781 25.863281 28.425781 L 25.542969 27.96875 L 25.699219 27.785156 C 28.945312 23.960938 29.132812 18.699219 26.257812 11.96875 L 26.207031 11.84375 L 27.945312 12.703125 C 31.53125 14.476562 32.316406 14.800781 33.03125 14.800781 C 33.976562 14.800781 33.78125 13.9375 32.472656 12.292969 C 28.519531 7.355469 25.394531 5.925781 21.921875 7.472656 L 21.558594 7.636719 L 21.578125 7.542969 C 21.699219 6.992188 21.761719 5.742188 21.699219 5.164062 C 21.496094 3.296875 20.664062 1.964844 19.003906 0.855469 C 18.480469 0.503906 18.457031 0.5 18.214844 0.632812\"/>\n",
              "</g>\n",
              "      </svg>\n",
              "    "
            ]
          },
          "metadata": {}
        }
      ]
    },
    {
      "cell_type": "code",
      "source": [
        "###ユークリッドの互除法\n",
        "\n",
        "m, n = 2025, 200\n",
        "while m != n:\n",
        "    if m > n:\n",
        "        m -= n\n",
        "    else:\n",
        "        n -= m\n",
        "print(f'最大公約数={m:d}')\n",
        "##############\n",
        "\n",
        "m, n = 2025, 200\n",
        "while True:\n",
        "    k = m % n\n",
        "    m = n\n",
        "    n = k\n",
        "    if k == 0:\n",
        "        break\n",
        "print(f'最大公約数={m:d}')\n",
        "###############\n",
        "\n",
        "#再帰\n",
        "def gcd(m, n):\n",
        "    if n == 0:\n",
        "        return m\n",
        "    else:\n",
        "        return gcd(n, m % n)\n",
        "\n",
        "a, b = 128, 72\n",
        "print(f'最大公約数={gcd(a, b):d}')\n",
        "\n",
        "\n",
        "\n",
        ""
      ],
      "metadata": {
        "colab": {
          "base_uri": "https://localhost:8080/"
        },
        "id": "L7DfBoeHONGd",
        "outputId": "da9bdf49-d611-4205-c395-7ef69dd398ae"
      },
      "execution_count": 10,
      "outputs": [
        {
          "output_type": "stream",
          "name": "stdout",
          "text": [
            "最大公約数=25\n",
            "最大公約数=25\n",
            "最大公約数=8\n"
          ]
        }
      ]
    },
    {
      "cell_type": "code",
      "source": [],
      "metadata": {
        "id": "7dypiSPyPxhB"
      },
      "execution_count": 2,
      "outputs": []
    }
  ]
}
